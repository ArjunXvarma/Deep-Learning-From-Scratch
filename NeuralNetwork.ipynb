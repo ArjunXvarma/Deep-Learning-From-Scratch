{
 "cells": [
  {
   "cell_type": "markdown",
   "metadata": {},
   "source": [
    "## Neural Networks from scratch"
   ]
  },
  {
   "cell_type": "code",
   "execution_count": 38,
   "metadata": {},
   "outputs": [],
   "source": [
    "import matplotlib.pyplot as plt\n",
    "import numpy as np\n",
    "import struct"
   ]
  },
  {
   "cell_type": "markdown",
   "metadata": {},
   "source": [
    "## Data loaders"
   ]
  },
  {
   "cell_type": "code",
   "execution_count": 39,
   "metadata": {},
   "outputs": [],
   "source": [
    "def load_mnist_images(filename):\n",
    "    with open(filename, 'rb') as f:\n",
    "        magic, num, rows, cols = struct.unpack(\">IIII\", f.read(16))\n",
    "        images = np.frombuffer(f.read(), dtype=np.uint8).reshape(num, rows * cols)\n",
    "    return images\n",
    "\n",
    "def load_mnist_labels(filename):\n",
    "    with open(filename, 'rb') as f:\n",
    "        magic, num = struct.unpack(\">II\", f.read(8))\n",
    "        labels = np.frombuffer(f.read(), dtype=np.uint8)\n",
    "    return labels"
   ]
  },
  {
   "cell_type": "code",
   "execution_count": 40,
   "metadata": {},
   "outputs": [],
   "source": [
    "def sigmoid(z):\n",
    "    return 1 / (1 + np.exp(-z))\n",
    "\n",
    "def sigmoid_prime(z):\n",
    "    return sigmoid(z) * (1 - sigmoid(z))\n",
    "\n",
    "def relu(z):\n",
    "    return np.maximum(0, z)\n",
    "\n",
    "def relu_prime(z):\n",
    "    return (z > 0).astype(float)\n",
    "\n",
    "def softmax(z):\n",
    "    exp_z = np.exp(z - np.max(z, axis=0, keepdims=True))\n",
    "    return exp_z / np.sum(exp_z, axis=0, keepdims=True)\n",
    "\n",
    "def one_hot(Y, num_classes):\n",
    "    one_hot_Y = np.zeros((num_classes, Y.size))\n",
    "    one_hot_Y[Y, np.arange(Y.size)] = 1\n",
    "    return one_hot_Y\n",
    "\n",
    "# ... Add more activation functions here if required\n"
   ]
  },
  {
   "cell_type": "code",
   "execution_count": 41,
   "metadata": {},
   "outputs": [],
   "source": [
    "class NeuralNetwork:\n",
    "    def __init__(self, layers):\n",
    "        self.n_layers = len(layers)\n",
    "        self.weights = []\n",
    "        self.biases = []\n",
    "\n",
    "        # Initialize weights with Xavier/Glorot initialization\n",
    "        for i in range(1, self.n_layers):\n",
    "            self.weights.append(np.random.randn(layers[i], layers[i - 1]) * np.sqrt(1 / layers[i - 1]))\n",
    "            self.biases.append(np.zeros((layers[i], 1)))\n",
    "\n",
    "    def forward_propagation(self, X):\n",
    "        activations = [X]\n",
    "        zs = []\n",
    "\n",
    "        # Hidden layers use relu as the activation function\n",
    "        for i in range(len(self.weights) - 1):\n",
    "            z = np.dot(self.weights[i], activations[-1]) + self.biases[i]\n",
    "            zs.append(z)\n",
    "            activations.append(relu(z))\n",
    "\n",
    "        # Output layer uses softmax for it's activation function\n",
    "        z = np.dot(self.weights[-1], activations[-1]) + self.biases[-1]\n",
    "        zs.append(z)\n",
    "        activations.append(softmax(z))\n",
    "\n",
    "        return activations, zs\n",
    "\n",
    "    def backward_propagation(self, X, Y):\n",
    "        activations, zs = self.forward_propagation(X)\n",
    "        Y = one_hot(Y, activations[-1].shape[0])\n",
    "\n",
    "        delta = activations[-1] - Y\n",
    "        nabla_w = [np.zeros(w.shape) for w in self.weights]\n",
    "        nabla_b = [np.zeros(b.shape) for b in self.biases]\n",
    "\n",
    "        # Output layer gradient\n",
    "        nabla_w[-1] = np.dot(delta, activations[-2].T) / X.shape[1]\n",
    "        nabla_b[-1] = np.sum(delta, axis=1, keepdims=True) / X.shape[1]\n",
    "\n",
    "        # Backpropagation through hidden layers\n",
    "        for l in range(2, self.n_layers):\n",
    "            delta = np.dot(self.weights[-l + 1].T, delta) * relu_prime(zs[-l])\n",
    "            nabla_w[-l] = np.dot(delta, activations[-l - 1].T) / X.shape[1]\n",
    "            nabla_b[-l] = np.sum(delta, axis=1, keepdims=True) / X.shape[1]\n",
    "\n",
    "        return nabla_w, nabla_b\n",
    "\n",
    "    def update_parameters(self, nabla_w, nabla_b, learning_rate):\n",
    "        for i in range(len(self.weights)):\n",
    "            self.weights[i] -= learning_rate * nabla_w[i]\n",
    "            self.biases[i] -= learning_rate * nabla_b[i]\n",
    "\n",
    "    def compute_loss(self, Y, Y_hat):\n",
    "        m = Y.shape[1]\n",
    "        return -np.sum(Y * np.log(Y_hat + 1e-8)) / m\n",
    "        \n",
    "    def compute_accuracy(self, X, Y):\n",
    "        predictions, _ = self.forward_propagation(X)\n",
    "        predicted_labels = np.argmax(predictions[-1], axis=0)\n",
    "        return np.mean(predicted_labels == Y) * 100\n",
    "\n",
    "    def train(self, X, Y, epochs, learning_rate=0.1):\n",
    "        losses = []\n",
    "        accuracies = []\n",
    "        for epoch in range(epochs):\n",
    "            nabla_w, nabla_b = self.backward_propagation(X, Y)\n",
    "            self.update_parameters(nabla_w, nabla_b, learning_rate)\n",
    "\n",
    "            if epoch % 1 == 0:\n",
    "                loss = self.compute_loss(one_hot(Y, 10), self.forward_propagation(X)[0][-1])\n",
    "                losses.append(loss)\n",
    "                accuracy = self.compute_accuracy(X, Y)\n",
    "                accuracies.append(accuracy)\n",
    "                print(f\"Epoch {epoch}, Loss: {loss:.5f}, Accuracy: {accuracy:.2f}%\")\n",
    "\n",
    "        fig, axes = plt.subplots(1, 2, figsize=(12, 5))\n",
    "\n",
    "        # Loss curve\n",
    "        axes[0].plot(range(epochs), losses, label=\"Loss\")\n",
    "        axes[0].set_xlabel(\"Epochs\")\n",
    "        axes[0].set_ylabel(\"Loss\")\n",
    "        axes[0].set_title(\"Training Loss Curve\")\n",
    "        axes[0].legend()\n",
    "\n",
    "        # Accuracy curve\n",
    "        axes[1].plot(range(epochs), accuracies, color=\"orange\", label=\"Accuracy\")\n",
    "        axes[1].set_xlabel(\"Epochs\")\n",
    "        axes[1].set_ylabel(\"Accuracy (%)\")\n",
    "        axes[1].set_title(\"Training Accuracy Curve\")\n",
    "        axes[1].legend()\n",
    "\n",
    "        plt.show()\n",
    "\n",
    "    def test(self, X_test, Y_test):\n",
    "        accuracy = self.compute_accuracy(X_test, Y_test)\n",
    "        print(f\"Test Accuracy: {accuracy:.2f}%\")\n",
    "\n",
    "    def predict(self, X):\n",
    "        # Ensure that the input is a column vector\n",
    "        if X.shape == (28, 28):\n",
    "            X = X.reshape(784, 1)\n",
    "        elif X.shape == (784,):\n",
    "            X = X.reshape(784, 1)\n",
    "        activations, _ = self.forward_propagation(X)\n",
    "\n",
    "        probabilities = activations[-1]\n",
    "        prediction = np.argmax(probabilities, axis=0)[0]\n",
    "\n",
    "        plt.imshow(X.reshape(28, 28), cmap='gray')\n",
    "        plt.title(f\"Predicted Label: {prediction}\")\n",
    "        plt.axis('off')\n",
    "        plt.show()\n"
   ]
  },
  {
   "cell_type": "code",
   "execution_count": 42,
   "metadata": {},
   "outputs": [],
   "source": [
    "X_train = load_mnist_images('archive/train-images-idx3-ubyte/train-images-idx3-ubyte')\n",
    "Y_train = load_mnist_labels('archive/train-labels-idx1-ubyte/train-labels-idx1-ubyte')\n",
    "X_test = load_mnist_images('archive/t10k-images.idx3-ubyte')\n",
    "Y_test = load_mnist_labels('archive/t10k-labels.idx1-ubyte')\n",
    "\n",
    "# Normalize pixel values to [0,1]\n",
    "X_train = X_train.astype('float32') / 255.0\n",
    "X_test = X_test.astype('float32') / 255.0"
   ]
  },
  {
   "cell_type": "code",
   "execution_count": 43,
   "metadata": {},
   "outputs": [
    {
     "data": {
      "image/png": "[encoded data removed]",
      "text/plain": [
       "<Figure size 640x480 with 1 Axes>"
      ]
     },
     "metadata": {},
     "output_type": "display_data"
    }
   ],
   "source": [
    "plt.gray()\n",
    "plt.imshow(X_train[0].reshape(28, 28), interpolation='nearest')\n",
    "plt.show()"
   ]
  },
  {
   "cell_type": "code",
   "execution_count": 44,
   "metadata": {},
   "outputs": [],
   "source": [
    "# Reshape from (num_samples, 784) to (784, num_samples) for matrix multiplication\n",
    "X_train = X_train.T\n",
    "X_test = X_test.T"
   ]
  },
  {
   "cell_type": "code",
   "execution_count": 45,
   "metadata": {},
   "outputs": [
    {
     "name": "stdout",
     "output_type": "stream",
     "text": [
      "Training details:\n",
      "Epoch 0, Loss: 2.26790, Accuracy: 14.01%\n",
      "Epoch 1, Loss: 2.22531, Accuracy: 19.63%\n",
      "Epoch 2, Loss: 2.18722, Accuracy: 25.75%\n",
      "Epoch 3, Loss: 2.15128, Accuracy: 29.62%\n",
      "Epoch 4, Loss: 2.11677, Accuracy: 32.43%\n",
      "Epoch 5, Loss: 2.08332, Accuracy: 34.51%\n",
      "Epoch 6, Loss: 2.05067, Accuracy: 36.22%\n",
      "Epoch 7, Loss: 2.01884, Accuracy: 37.74%\n",
      "Epoch 8, Loss: 1.98791, Accuracy: 38.97%\n",
      "Epoch 9, Loss: 1.95793, Accuracy: 40.07%\n",
      "Epoch 10, Loss: 1.92889, Accuracy: 40.98%\n",
      "Epoch 11, Loss: 1.90072, Accuracy: 41.72%\n",
      "Epoch 12, Loss: 1.87333, Accuracy: 42.51%\n",
      "Epoch 13, Loss: 1.84665, Accuracy: 43.30%\n",
      "Epoch 14, Loss: 1.82061, Accuracy: 44.11%\n",
      "Epoch 15, Loss: 1.79515, Accuracy: 44.90%\n",
      "Epoch 16, Loss: 1.77026, Accuracy: 45.72%\n",
      "Epoch 17, Loss: 1.74588, Accuracy: 46.67%\n",
      "Epoch 18, Loss: 1.72196, Accuracy: 47.63%\n",
      "Epoch 19, Loss: 1.69848, Accuracy: 48.68%\n",
      "Epoch 20, Loss: 1.67538, Accuracy: 49.66%\n",
      "Epoch 21, Loss: 1.65265, Accuracy: 50.65%\n",
      "Epoch 22, Loss: 1.63027, Accuracy: 51.63%\n",
      "Epoch 23, Loss: 1.60821, Accuracy: 52.53%\n",
      "Epoch 24, Loss: 1.58645, Accuracy: 53.37%\n",
      "Epoch 25, Loss: 1.56497, Accuracy: 54.27%\n",
      "Epoch 26, Loss: 1.54378, Accuracy: 55.02%\n",
      "Epoch 27, Loss: 1.52286, Accuracy: 55.75%\n",
      "Epoch 28, Loss: 1.50222, Accuracy: 56.36%\n",
      "Epoch 29, Loss: 1.48188, Accuracy: 57.04%\n",
      "Epoch 30, Loss: 1.46182, Accuracy: 57.68%\n",
      "Epoch 31, Loss: 1.44206, Accuracy: 58.26%\n",
      "Epoch 32, Loss: 1.42261, Accuracy: 58.79%\n",
      "Epoch 33, Loss: 1.40348, Accuracy: 59.31%\n",
      "Epoch 34, Loss: 1.38468, Accuracy: 59.74%\n",
      "Epoch 35, Loss: 1.36621, Accuracy: 60.17%\n",
      "Epoch 36, Loss: 1.34806, Accuracy: 60.69%\n",
      "Epoch 37, Loss: 1.33025, Accuracy: 61.22%\n",
      "Epoch 38, Loss: 1.31277, Accuracy: 61.74%\n",
      "Epoch 39, Loss: 1.29559, Accuracy: 62.32%\n",
      "Epoch 40, Loss: 1.27873, Accuracy: 62.81%\n",
      "Epoch 41, Loss: 1.26215, Accuracy: 63.29%\n",
      "Epoch 42, Loss: 1.24585, Accuracy: 63.90%\n",
      "Epoch 43, Loss: 1.22982, Accuracy: 64.45%\n",
      "Epoch 44, Loss: 1.21403, Accuracy: 64.97%\n",
      "Epoch 45, Loss: 1.19845, Accuracy: 65.54%\n",
      "Epoch 46, Loss: 1.18308, Accuracy: 66.04%\n",
      "Epoch 47, Loss: 1.16788, Accuracy: 66.52%\n",
      "Epoch 48, Loss: 1.15285, Accuracy: 66.98%\n",
      "Epoch 49, Loss: 1.13796, Accuracy: 67.47%\n",
      "Epoch 50, Loss: 1.12321, Accuracy: 67.97%\n",
      "Epoch 51, Loss: 1.10856, Accuracy: 68.42%\n",
      "Epoch 52, Loss: 1.09400, Accuracy: 68.88%\n",
      "Epoch 53, Loss: 1.07953, Accuracy: 69.41%\n",
      "Epoch 54, Loss: 1.06514, Accuracy: 69.93%\n",
      "Epoch 55, Loss: 1.05083, Accuracy: 70.50%\n",
      "Epoch 56, Loss: 1.03658, Accuracy: 71.07%\n",
      "Epoch 57, Loss: 1.02241, Accuracy: 71.75%\n",
      "Epoch 58, Loss: 1.00833, Accuracy: 72.55%\n",
      "Epoch 59, Loss: 0.99433, Accuracy: 73.37%\n",
      "Epoch 60, Loss: 0.98044, Accuracy: 74.30%\n",
      "Epoch 61, Loss: 0.96669, Accuracy: 75.20%\n",
      "Epoch 62, Loss: 0.95310, Accuracy: 76.08%\n",
      "Epoch 63, Loss: 0.93971, Accuracy: 76.92%\n",
      "Epoch 64, Loss: 0.92653, Accuracy: 77.63%\n",
      "Epoch 65, Loss: 0.91362, Accuracy: 78.26%\n",
      "Epoch 66, Loss: 0.90100, Accuracy: 78.71%\n",
      "Epoch 67, Loss: 0.88871, Accuracy: 79.22%\n",
      "Epoch 68, Loss: 0.87676, Accuracy: 79.59%\n",
      "Epoch 69, Loss: 0.86517, Accuracy: 79.90%\n",
      "Epoch 70, Loss: 0.85395, Accuracy: 80.22%\n",
      "Epoch 71, Loss: 0.84309, Accuracy: 80.49%\n",
      "Epoch 72, Loss: 0.83260, Accuracy: 80.72%\n",
      "Epoch 73, Loss: 0.82247, Accuracy: 80.92%\n",
      "Epoch 74, Loss: 0.81268, Accuracy: 81.12%\n",
      "Epoch 75, Loss: 0.80323, Accuracy: 81.33%\n",
      "Epoch 76, Loss: 0.79410, Accuracy: 81.47%\n",
      "Epoch 77, Loss: 0.78528, Accuracy: 81.65%\n",
      "Epoch 78, Loss: 0.77674, Accuracy: 81.78%\n",
      "Epoch 79, Loss: 0.76849, Accuracy: 81.92%\n",
      "Epoch 80, Loss: 0.76050, Accuracy: 82.03%\n",
      "Epoch 81, Loss: 0.75276, Accuracy: 82.16%\n",
      "Epoch 82, Loss: 0.74525, Accuracy: 82.28%\n",
      "Epoch 83, Loss: 0.73797, Accuracy: 82.38%\n",
      "Epoch 84, Loss: 0.73091, Accuracy: 82.52%\n",
      "Epoch 85, Loss: 0.72406, Accuracy: 82.64%\n",
      "Epoch 86, Loss: 0.71741, Accuracy: 82.76%\n",
      "Epoch 87, Loss: 0.71095, Accuracy: 82.88%\n",
      "Epoch 88, Loss: 0.70467, Accuracy: 82.95%\n",
      "Epoch 89, Loss: 0.69857, Accuracy: 83.04%\n",
      "Epoch 90, Loss: 0.69263, Accuracy: 83.17%\n",
      "Epoch 91, Loss: 0.68686, Accuracy: 83.26%\n",
      "Epoch 92, Loss: 0.68125, Accuracy: 83.35%\n",
      "Epoch 93, Loss: 0.67579, Accuracy: 83.45%\n",
      "Epoch 94, Loss: 0.67048, Accuracy: 83.56%\n",
      "Epoch 95, Loss: 0.66530, Accuracy: 83.64%\n",
      "Epoch 96, Loss: 0.66026, Accuracy: 83.73%\n",
      "Epoch 97, Loss: 0.65535, Accuracy: 83.82%\n",
      "Epoch 98, Loss: 0.65057, Accuracy: 83.90%\n",
      "Epoch 99, Loss: 0.64590, Accuracy: 83.97%\n"
     ]
    },
    {
     "data": {
      "image/png": "[encoded data removed]",
      "text/plain": [
       "<Figure size 1200x500 with 2 Axes>"
      ]
     },
     "metadata": {},
     "output_type": "display_data"
    },
    {
     "name": "stdout",
     "output_type": "stream",
     "text": [
      "Testing details\n",
      "Test Accuracy: 84.68%\n"
     ]
    }
   ],
   "source": [
    "nn = NeuralNetwork([784, 10, 10])\n",
    "\n",
    "print(\"Training details:\")\n",
    "nn.train(X_train, Y_train, 100)\n",
    "\n",
    "print(\"Testing details\")\n",
    "nn.test(X_test, Y_test)"
   ]
  },
  {
   "cell_type": "code",
   "execution_count": 46,
   "metadata": {},
   "outputs": [
    {
     "data": {
      "image/png": "[encoded data removed]",
      "text/plain": [
       "<Figure size 640x480 with 1 Axes>"
      ]
     },
     "metadata": {},
     "output_type": "display_data"
    }
   ],
   "source": [
    "sample_image = X_test.T[0]\n",
    "nn.predict(sample_image)"
   ]
  }
 ],
 "metadata": {
  "kernelspec": {
   "display_name": ".venv",
   "language": "python",
   "name": "python3"
  },
  "language_info": {
   "codemirror_mode": {
    "name": "ipython",
    "version": 3
   },
   "file_extension": ".py",
   "mimetype": "text/x-python",
   "name": "python",
   "nbconvert_exporter": "python",
   "pygments_lexer": "ipython3",
   "version": "3.13.0"
  }
 },
 "nbformat": 4,
 "nbformat_minor": 2
}
